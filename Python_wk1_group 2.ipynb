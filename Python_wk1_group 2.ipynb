{
 "cells": [
  {
   "cell_type": "code",
   "execution_count": 1,
   "id": "7a97959e-4c46-4914-91f8-83cdaf019dd8",
   "metadata": {},
   "outputs": [
    {
     "name": "stdout",
     "output_type": "stream",
     "text": [
      "\n",
      "Tip =  $10.08\n",
      "------------------\n",
      "Sales_tax = $3.92\n",
      "------------------\n",
      "Grand_total = $70.00\n",
      "------------------\n",
      "\n",
      "Thank you for your patronage!\n"
     ]
    }
   ],
   "source": [
    "#inputs for calculating total food bill\n",
    "Food_bill = float(input('Enter charge for food: = $'))\n",
    "\n",
    "Tip = 0.18 * Food_bill                  # tip is 18% of the food bill\n",
    "\n",
    "Sales_tax = 0.07 * Food_bill            # sales tax is 7% of the food bill\n",
    "\n",
    "Grand_total = Tip + Sales_tax + Food_bill   # grand total to be paid by customer\n",
    "\n",
    "# output for client\n",
    "print (f'\\nTip =  ${Tip:.2f}\\n------------------')\n",
    "print(f'Sales_tax = ${Sales_tax:.2f}\\n------------------')\n",
    "print (f'Grand_total = ${Grand_total:.2f}\\n------------------\\n\\nThank you for your patronage!')"
   ]
  },
  {
   "cell_type": "code",
   "execution_count": null,
   "id": "1c7a0343",
   "metadata": {},
   "outputs": [],
   "source": [
    "C:\\Users\\Safowaa\\Documents\\Azibiafrica\\AzubiPython\\Python_wk1_group 2.ipynb"
   ]
  },
  {
   "cell_type": "code",
   "execution_count": null,
   "id": "c4a19db5-bfd6-4047-8c38-6ec362706ff8",
   "metadata": {},
   "outputs": [],
   "source": []
  },
  {
   "cell_type": "code",
   "execution_count": null,
   "id": "bccdabf1-97a2-417c-9bf1-bec3d430b8ac",
   "metadata": {},
   "outputs": [],
   "source": []
  }
 ],
 "metadata": {
  "kernelspec": {
   "display_name": "Python 3 (ipykernel)",
   "language": "python",
   "name": "python3"
  },
  "language_info": {
   "codemirror_mode": {
    "name": "ipython",
    "version": 3
   },
   "file_extension": ".py",
   "mimetype": "text/x-python",
   "name": "python",
   "nbconvert_exporter": "python",
   "pygments_lexer": "ipython3",
   "version": "3.10.11"
  }
 },
 "nbformat": 4,
 "nbformat_minor": 5
}
